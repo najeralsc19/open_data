{
 "cells": [
  {
   "cell_type": "code",
   "execution_count": null,
   "metadata": {},
   "outputs": [],
   "source": [
    "import pandas as pd\n",
    "\n",
    "def read_csv_with_multiple_encodings(file_path, encodings=['utf-8', 'latin1', 'ISO-8859-1', 'cp1252']):\n",
    "    for encoding in encodings:\n",
    "        try:\n",
    "            df = pd.read_csv(file_path, encoding=encoding)\n",
    "            print(f\"File read successfully with encoding: {encoding}\")\n",
    "            return df\n",
    "        except UnicodeDecodeError:\n",
    "            print(f\"Failed to read file with encoding: {encoding}\")\n",
    "    raise ValueError(\"Unable to read the file with the provided encodings\")\n",
    "\n",
    "file_path = \"E://files_pandas//datos_abiertos//IRS_localidad_2020.csv\"\n",
    "df_irs = read_csv_with_multiple_encodings(file_path)\n"
   ]
  },
  {
   "cell_type": "markdown",
   "metadata": {},
   "source": [
    "DATA FRAME ANALFABETISMO"
   ]
  },
  {
   "cell_type": "code",
   "execution_count": null,
   "metadata": {},
   "outputs": [],
   "source": [
    "df_irs_hgo = df_irs[df_irs['ent'] == 'Hidalgo']\n",
    "columnas = ['cve_loc','mun','loc','i_analf']\n",
    "df_analf = df_irs_hgo[ columnas]\n",
    "df_analf = df_analf.sort_values(by='i_analf', ascending=False)\n",
    "df_geoloc = pd.read_csv('E://files_pandas//sisver//AGEEML_202410311056515.csv') # csv con las coordenadas de las localidades \n",
    "df_analf = df_analf.merge(df_geoloc[['NOM_LOC', 'LAT_DECIMAL', 'LON_DECIMAL']], \n",
    "                          left_on='loc', right_on='NOM_LOC', how='left')# merge de los dos df para obtener las coordenadas \n",
    "\n",
    "df_analf.rename(columns={'LAT_DECIMAL': 'lat', 'LON_DECIMAL': 'lon'}, inplace=True)#renombrar columnas \n",
    "df_analf = df_analf.dropna(subset=['lat', 'lon'])#quitar los missing values para poder mapear\n"
   ]
  },
  {
   "cell_type": "markdown",
   "metadata": {},
   "source": [
    "CONTORNO MAPA DEL ESTADO"
   ]
  },
  {
   "cell_type": "code",
   "execution_count": null,
   "metadata": {},
   "outputs": [],
   "source": [
    "import geopandas as gpd\n",
    "import folium\n",
    "import pandas as pd\n",
    "from folium.plugins import HeatMap\n",
    "# Ruta al archivo SHP\n",
    "shapefile_path = 'E://mapas//13_hidalgo//conjunto_de_datos//13ent.shp'\n",
    "\n",
    "# Leer el archivo SHP\n",
    "shpg = gpd.read_file(shapefile_path)\n",
    "\n",
    "# Filtrar por la columna NOMGEO que contiene 'HIDALGO'\n",
    "shpg_hidalgo = shpg[shpg['NOMGEO'].str.contains('Hidalgo', case=False)]\n",
    "\n",
    "# Crear el mapa base centrado en Hidalgo\n",
    "m = folium.Map(location=[20.0911, -98.7624], zoom_start=8)  # Coordenadas aproximadas de Hidalgo\n",
    "\n",
    "def estilo_poligono(feature): \n",
    "    return { \n",
    "        'color': 'black', # Color de borde \n",
    "        'weight': 2, # Grosor del borde \n",
    "        'fillOpacity': 0.0 # Transparencia del relleno \n",
    "        }\n",
    "\n",
    "folium.GeoJson(shpg_hidalgo, style_function=estilo_poligono).add_to(m)\n",
    "\n",
    "heat_data = [[row['lat'], row['lon'], row['i_analf']] for index, row in df_analf.iterrows()]\n",
    "\n",
    "# Agregar el mapa de calor al mapa base\n",
    "HeatMap(heat_data).add_to(m)\n",
    "m\n",
    "\n",
    "m.save('E://files_pandas//datos_abiertos//mapas//mapa_calor_analfabetismo_hidalgo.html')"
   ]
  },
  {
   "cell_type": "markdown",
   "metadata": {},
   "source": [
    "Obteniendo promedio de indice de analfabetizmo por municipio, agrupar y generar columna calculada "
   ]
  },
  {
   "cell_type": "code",
   "execution_count": null,
   "metadata": {},
   "outputs": [],
   "source": [
    "df_mpio_anf = df_analf[['mun','i_analf']]\n",
    "promedio_analf = df_mpio_anf.groupby('mun')['i_analf'].mean().reset_index()\n",
    "promedio_analf.rename(columns={'i_analf': 'promedio_i_analf'}, inplace=True)\n",
    "promedio_analf= promedio_analf.sort_values(by='promedio_i_analf', ascending=False)\n",
    "promedio_analf['promedio_i_analf'] = promedio_analf['promedio_i_analf'].round(2)"
   ]
  },
  {
   "cell_type": "code",
   "execution_count": null,
   "metadata": {},
   "outputs": [
    {
     "name": "stderr",
     "output_type": "stream",
     "text": [
      "e:\\Repositorios\\open_data\\datos_abiertos\\Lib\\site-packages\\pyogrio\\raw.py:198: RuntimeWarning: Invalid range specified\n",
      "\n",
      "  return ogr_read(\n"
     ]
    },
    {
     "ename": "DataSourceError",
     "evalue": "CVE_ENT CVE_MUN CVEGEO         NOM_ENT          AREA   PERIMETER  \\0         01     001  01001  Aguascalientes  116635.92455  1166.35925   1         01     002  01002  Aguascalientes   54337.42654   543.37427   2         01     003  01003  Aguascalientes   92335.78320   923.35783   3         01     004  01004  Aguascalientes   12838.35453   128.38355   4         01     005  01005  Aguascalientes   49989.50926   499.89509   ...      ...     ...    ...             ...           ...         ...   2458      32     054  32054       Zacatecas   37142.59872   371.42599   2459      32     055  32055       Zacatecas  215650.56021  2156.50560   2460      32     056  32056       Zacatecas   43678.57090   436.78571   2461      32     057  32057       Zacatecas   21844.70068   218.44701   2462      32     058  32058       Zacatecas   27566.66479   275.66665                       NOM_MUN  COV_  COV_ID  \\0            Aguascalientes     0       1   1                  Asientos     1       2   2                  Calvillo     2       3   3                     Cosío     3       4   4               Jesús María     4       5   ...                     ...   ...     ...   2458          Villa Hidalgo  2458    2459   2459             Villanueva  2459    2460   2460              Zacatecas  2460    2461   2461               Trancoso  2461    2462   2462  Santa María de la Paz  2462    2463                                                  geometry  0     POLYGON ((-102.09775 22.02325, -102.09857 22.0...  1     POLYGON ((-101.99941 22.21951, -101.9994 22.21...  2     POLYGON ((-102.57625 21.96778, -102.57626 21.9...  3     POLYGON ((-102.2532 22.37449, -102.25239 22.37...  4     POLYGON ((-102.31034 22.03716, -102.30653 22.0...  ...                                                 ...  2458  POLYGON ((-101.65599 22.51381, -101.65586 22.5...  2459  POLYGON ((-102.69428 22.6223, -102.69476 22.62...  2460  POLYGON ((-102.58542 22.81149, -102.58541 22.8...  2461  POLYGON ((-102.2461 22.73451, -102.24615 22.73...  2462  POLYGON ((-103.19774 21.58534, -103.19599 21.5...  [2463 rows x 10 columns]: No such file or directory",
     "output_type": "error",
     "traceback": [
      "\u001b[1;31m---------------------------------------------------------------------------\u001b[0m",
      "\u001b[1;31mDataSourceError\u001b[0m                           Traceback (most recent call last)",
      "Cell \u001b[1;32mIn[20], line 11\u001b[0m\n\u001b[0;32m      8\u001b[0m     shapefile_path \u001b[38;5;241m=\u001b[39m gpd\u001b[38;5;241m.\u001b[39mread_file(\u001b[38;5;124m\"\u001b[39m\u001b[38;5;124mE://files_pandas//sisver//muni_2018gw//muni_2018gw.shp\u001b[39m\u001b[38;5;124m\"\u001b[39m, encoding\u001b[38;5;241m=\u001b[39m\u001b[38;5;124m'\u001b[39m\u001b[38;5;124mlatin-1\u001b[39m\u001b[38;5;124m'\u001b[39m)\n\u001b[0;32m     10\u001b[0m \u001b[38;5;66;03m# Leer el archivo SHP\u001b[39;00m\n\u001b[1;32m---> 11\u001b[0m gdf \u001b[38;5;241m=\u001b[39m \u001b[43mgpd\u001b[49m\u001b[38;5;241;43m.\u001b[39;49m\u001b[43mread_file\u001b[49m\u001b[43m(\u001b[49m\u001b[43mshapefile_path\u001b[49m\u001b[43m)\u001b[49m\n\u001b[0;32m     12\u001b[0m gdf \u001b[38;5;241m=\u001b[39m gdf[gdf[\u001b[38;5;124m'\u001b[39m\u001b[38;5;124mNOM_ENT\u001b[39m\u001b[38;5;124m'\u001b[39m] \u001b[38;5;241m==\u001b[39m \u001b[38;5;124m'\u001b[39m\u001b[38;5;124mHidalgo\u001b[39m\u001b[38;5;124m'\u001b[39m]\n\u001b[0;32m     13\u001b[0m \u001b[38;5;66;03m# Crear el mapa base centrado en Hidalgo\u001b[39;00m\n",
      "File \u001b[1;32me:\\Repositorios\\open_data\\datos_abiertos\\Lib\\site-packages\\geopandas\\io\\file.py:294\u001b[0m, in \u001b[0;36m_read_file\u001b[1;34m(filename, bbox, mask, columns, rows, engine, **kwargs)\u001b[0m\n\u001b[0;32m    291\u001b[0m             from_bytes \u001b[38;5;241m=\u001b[39m \u001b[38;5;28;01mTrue\u001b[39;00m\n\u001b[0;32m    293\u001b[0m \u001b[38;5;28;01mif\u001b[39;00m engine \u001b[38;5;241m==\u001b[39m \u001b[38;5;124m\"\u001b[39m\u001b[38;5;124mpyogrio\u001b[39m\u001b[38;5;124m\"\u001b[39m:\n\u001b[1;32m--> 294\u001b[0m     \u001b[38;5;28;01mreturn\u001b[39;00m \u001b[43m_read_file_pyogrio\u001b[49m\u001b[43m(\u001b[49m\n\u001b[0;32m    295\u001b[0m \u001b[43m        \u001b[49m\u001b[43mfilename\u001b[49m\u001b[43m,\u001b[49m\u001b[43m \u001b[49m\u001b[43mbbox\u001b[49m\u001b[38;5;241;43m=\u001b[39;49m\u001b[43mbbox\u001b[49m\u001b[43m,\u001b[49m\u001b[43m \u001b[49m\u001b[43mmask\u001b[49m\u001b[38;5;241;43m=\u001b[39;49m\u001b[43mmask\u001b[49m\u001b[43m,\u001b[49m\u001b[43m \u001b[49m\u001b[43mcolumns\u001b[49m\u001b[38;5;241;43m=\u001b[39;49m\u001b[43mcolumns\u001b[49m\u001b[43m,\u001b[49m\u001b[43m \u001b[49m\u001b[43mrows\u001b[49m\u001b[38;5;241;43m=\u001b[39;49m\u001b[43mrows\u001b[49m\u001b[43m,\u001b[49m\u001b[43m \u001b[49m\u001b[38;5;241;43m*\u001b[39;49m\u001b[38;5;241;43m*\u001b[39;49m\u001b[43mkwargs\u001b[49m\n\u001b[0;32m    296\u001b[0m \u001b[43m    \u001b[49m\u001b[43m)\u001b[49m\n\u001b[0;32m    298\u001b[0m \u001b[38;5;28;01melif\u001b[39;00m engine \u001b[38;5;241m==\u001b[39m \u001b[38;5;124m\"\u001b[39m\u001b[38;5;124mfiona\u001b[39m\u001b[38;5;124m\"\u001b[39m:\n\u001b[0;32m    299\u001b[0m     \u001b[38;5;28;01mif\u001b[39;00m pd\u001b[38;5;241m.\u001b[39mapi\u001b[38;5;241m.\u001b[39mtypes\u001b[38;5;241m.\u001b[39mis_file_like(filename):\n",
      "File \u001b[1;32me:\\Repositorios\\open_data\\datos_abiertos\\Lib\\site-packages\\geopandas\\io\\file.py:547\u001b[0m, in \u001b[0;36m_read_file_pyogrio\u001b[1;34m(path_or_bytes, bbox, mask, rows, **kwargs)\u001b[0m\n\u001b[0;32m    538\u001b[0m     warnings\u001b[38;5;241m.\u001b[39mwarn(\n\u001b[0;32m    539\u001b[0m         \u001b[38;5;124m\"\u001b[39m\u001b[38;5;124mThe \u001b[39m\u001b[38;5;124m'\u001b[39m\u001b[38;5;124minclude_fields\u001b[39m\u001b[38;5;124m'\u001b[39m\u001b[38;5;124m and \u001b[39m\u001b[38;5;124m'\u001b[39m\u001b[38;5;124mignore_fields\u001b[39m\u001b[38;5;124m'\u001b[39m\u001b[38;5;124m keywords are deprecated, and \u001b[39m\u001b[38;5;124m\"\u001b[39m\n\u001b[0;32m    540\u001b[0m         \u001b[38;5;124m\"\u001b[39m\u001b[38;5;124mwill be removed in a future release. You can use the \u001b[39m\u001b[38;5;124m'\u001b[39m\u001b[38;5;124mcolumns\u001b[39m\u001b[38;5;124m'\u001b[39m\u001b[38;5;124m keyword \u001b[39m\u001b[38;5;124m\"\u001b[39m\n\u001b[1;32m   (...)\u001b[0m\n\u001b[0;32m    543\u001b[0m         stacklevel\u001b[38;5;241m=\u001b[39m\u001b[38;5;241m3\u001b[39m,\n\u001b[0;32m    544\u001b[0m     )\n\u001b[0;32m    545\u001b[0m     kwargs[\u001b[38;5;124m\"\u001b[39m\u001b[38;5;124mcolumns\u001b[39m\u001b[38;5;124m\"\u001b[39m] \u001b[38;5;241m=\u001b[39m kwargs\u001b[38;5;241m.\u001b[39mpop(\u001b[38;5;124m\"\u001b[39m\u001b[38;5;124minclude_fields\u001b[39m\u001b[38;5;124m\"\u001b[39m)\n\u001b[1;32m--> 547\u001b[0m \u001b[38;5;28;01mreturn\u001b[39;00m \u001b[43mpyogrio\u001b[49m\u001b[38;5;241;43m.\u001b[39;49m\u001b[43mread_dataframe\u001b[49m\u001b[43m(\u001b[49m\u001b[43mpath_or_bytes\u001b[49m\u001b[43m,\u001b[49m\u001b[43m \u001b[49m\u001b[43mbbox\u001b[49m\u001b[38;5;241;43m=\u001b[39;49m\u001b[43mbbox\u001b[49m\u001b[43m,\u001b[49m\u001b[43m \u001b[49m\u001b[38;5;241;43m*\u001b[39;49m\u001b[38;5;241;43m*\u001b[39;49m\u001b[43mkwargs\u001b[49m\u001b[43m)\u001b[49m\n",
      "File \u001b[1;32me:\\Repositorios\\open_data\\datos_abiertos\\Lib\\site-packages\\pyogrio\\geopandas.py:265\u001b[0m, in \u001b[0;36mread_dataframe\u001b[1;34m(path_or_buffer, layer, encoding, columns, read_geometry, force_2d, skip_features, max_features, where, bbox, mask, fids, sql, sql_dialect, fid_as_index, use_arrow, on_invalid, arrow_to_pandas_kwargs, **kwargs)\u001b[0m\n\u001b[0;32m    260\u001b[0m \u001b[38;5;28;01mif\u001b[39;00m \u001b[38;5;129;01mnot\u001b[39;00m use_arrow:\n\u001b[0;32m    261\u001b[0m     \u001b[38;5;66;03m# For arrow, datetimes are read as is.\u001b[39;00m\n\u001b[0;32m    262\u001b[0m     \u001b[38;5;66;03m# For numpy IO, datetimes are read as string values to preserve timezone info\u001b[39;00m\n\u001b[0;32m    263\u001b[0m     \u001b[38;5;66;03m# as numpy does not directly support timezones.\u001b[39;00m\n\u001b[0;32m    264\u001b[0m     kwargs[\u001b[38;5;124m\"\u001b[39m\u001b[38;5;124mdatetime_as_string\u001b[39m\u001b[38;5;124m\"\u001b[39m] \u001b[38;5;241m=\u001b[39m \u001b[38;5;28;01mTrue\u001b[39;00m\n\u001b[1;32m--> 265\u001b[0m result \u001b[38;5;241m=\u001b[39m \u001b[43mread_func\u001b[49m\u001b[43m(\u001b[49m\n\u001b[0;32m    266\u001b[0m \u001b[43m    \u001b[49m\u001b[43mpath_or_buffer\u001b[49m\u001b[43m,\u001b[49m\n\u001b[0;32m    267\u001b[0m \u001b[43m    \u001b[49m\u001b[43mlayer\u001b[49m\u001b[38;5;241;43m=\u001b[39;49m\u001b[43mlayer\u001b[49m\u001b[43m,\u001b[49m\n\u001b[0;32m    268\u001b[0m \u001b[43m    \u001b[49m\u001b[43mencoding\u001b[49m\u001b[38;5;241;43m=\u001b[39;49m\u001b[43mencoding\u001b[49m\u001b[43m,\u001b[49m\n\u001b[0;32m    269\u001b[0m \u001b[43m    \u001b[49m\u001b[43mcolumns\u001b[49m\u001b[38;5;241;43m=\u001b[39;49m\u001b[43mcolumns\u001b[49m\u001b[43m,\u001b[49m\n\u001b[0;32m    270\u001b[0m \u001b[43m    \u001b[49m\u001b[43mread_geometry\u001b[49m\u001b[38;5;241;43m=\u001b[39;49m\u001b[43mread_geometry\u001b[49m\u001b[43m,\u001b[49m\n\u001b[0;32m    271\u001b[0m \u001b[43m    \u001b[49m\u001b[43mforce_2d\u001b[49m\u001b[38;5;241;43m=\u001b[39;49m\u001b[43mgdal_force_2d\u001b[49m\u001b[43m,\u001b[49m\n\u001b[0;32m    272\u001b[0m \u001b[43m    \u001b[49m\u001b[43mskip_features\u001b[49m\u001b[38;5;241;43m=\u001b[39;49m\u001b[43mskip_features\u001b[49m\u001b[43m,\u001b[49m\n\u001b[0;32m    273\u001b[0m \u001b[43m    \u001b[49m\u001b[43mmax_features\u001b[49m\u001b[38;5;241;43m=\u001b[39;49m\u001b[43mmax_features\u001b[49m\u001b[43m,\u001b[49m\n\u001b[0;32m    274\u001b[0m \u001b[43m    \u001b[49m\u001b[43mwhere\u001b[49m\u001b[38;5;241;43m=\u001b[39;49m\u001b[43mwhere\u001b[49m\u001b[43m,\u001b[49m\n\u001b[0;32m    275\u001b[0m \u001b[43m    \u001b[49m\u001b[43mbbox\u001b[49m\u001b[38;5;241;43m=\u001b[39;49m\u001b[43mbbox\u001b[49m\u001b[43m,\u001b[49m\n\u001b[0;32m    276\u001b[0m \u001b[43m    \u001b[49m\u001b[43mmask\u001b[49m\u001b[38;5;241;43m=\u001b[39;49m\u001b[43mmask\u001b[49m\u001b[43m,\u001b[49m\n\u001b[0;32m    277\u001b[0m \u001b[43m    \u001b[49m\u001b[43mfids\u001b[49m\u001b[38;5;241;43m=\u001b[39;49m\u001b[43mfids\u001b[49m\u001b[43m,\u001b[49m\n\u001b[0;32m    278\u001b[0m \u001b[43m    \u001b[49m\u001b[43msql\u001b[49m\u001b[38;5;241;43m=\u001b[39;49m\u001b[43msql\u001b[49m\u001b[43m,\u001b[49m\n\u001b[0;32m    279\u001b[0m \u001b[43m    \u001b[49m\u001b[43msql_dialect\u001b[49m\u001b[38;5;241;43m=\u001b[39;49m\u001b[43msql_dialect\u001b[49m\u001b[43m,\u001b[49m\n\u001b[0;32m    280\u001b[0m \u001b[43m    \u001b[49m\u001b[43mreturn_fids\u001b[49m\u001b[38;5;241;43m=\u001b[39;49m\u001b[43mfid_as_index\u001b[49m\u001b[43m,\u001b[49m\n\u001b[0;32m    281\u001b[0m \u001b[43m    \u001b[49m\u001b[38;5;241;43m*\u001b[39;49m\u001b[38;5;241;43m*\u001b[39;49m\u001b[43mkwargs\u001b[49m\u001b[43m,\u001b[49m\n\u001b[0;32m    282\u001b[0m \u001b[43m\u001b[49m\u001b[43m)\u001b[49m\n\u001b[0;32m    284\u001b[0m \u001b[38;5;28;01mif\u001b[39;00m use_arrow:\n\u001b[0;32m    285\u001b[0m     meta, table \u001b[38;5;241m=\u001b[39m result\n",
      "File \u001b[1;32me:\\Repositorios\\open_data\\datos_abiertos\\Lib\\site-packages\\pyogrio\\raw.py:198\u001b[0m, in \u001b[0;36mread\u001b[1;34m(path_or_buffer, layer, encoding, columns, read_geometry, force_2d, skip_features, max_features, where, bbox, mask, fids, sql, sql_dialect, return_fids, datetime_as_string, **kwargs)\u001b[0m\n\u001b[0;32m     59\u001b[0m \u001b[38;5;250m\u001b[39m\u001b[38;5;124;03m\"\"\"Read OGR data source into numpy arrays.\u001b[39;00m\n\u001b[0;32m     60\u001b[0m \n\u001b[0;32m     61\u001b[0m \u001b[38;5;124;03mIMPORTANT: non-linear geometry types (e.g., MultiSurface) are converted\u001b[39;00m\n\u001b[1;32m   (...)\u001b[0m\n\u001b[0;32m    194\u001b[0m \n\u001b[0;32m    195\u001b[0m \u001b[38;5;124;03m\"\"\"\u001b[39;00m\n\u001b[0;32m    196\u001b[0m dataset_kwargs \u001b[38;5;241m=\u001b[39m _preprocess_options_key_value(kwargs) \u001b[38;5;28;01mif\u001b[39;00m kwargs \u001b[38;5;28;01melse\u001b[39;00m {}\n\u001b[1;32m--> 198\u001b[0m \u001b[38;5;28;01mreturn\u001b[39;00m \u001b[43mogr_read\u001b[49m\u001b[43m(\u001b[49m\n\u001b[0;32m    199\u001b[0m \u001b[43m    \u001b[49m\u001b[43mget_vsi_path_or_buffer\u001b[49m\u001b[43m(\u001b[49m\u001b[43mpath_or_buffer\u001b[49m\u001b[43m)\u001b[49m\u001b[43m,\u001b[49m\n\u001b[0;32m    200\u001b[0m \u001b[43m    \u001b[49m\u001b[43mlayer\u001b[49m\u001b[38;5;241;43m=\u001b[39;49m\u001b[43mlayer\u001b[49m\u001b[43m,\u001b[49m\n\u001b[0;32m    201\u001b[0m \u001b[43m    \u001b[49m\u001b[43mencoding\u001b[49m\u001b[38;5;241;43m=\u001b[39;49m\u001b[43mencoding\u001b[49m\u001b[43m,\u001b[49m\n\u001b[0;32m    202\u001b[0m \u001b[43m    \u001b[49m\u001b[43mcolumns\u001b[49m\u001b[38;5;241;43m=\u001b[39;49m\u001b[43mcolumns\u001b[49m\u001b[43m,\u001b[49m\n\u001b[0;32m    203\u001b[0m \u001b[43m    \u001b[49m\u001b[43mread_geometry\u001b[49m\u001b[38;5;241;43m=\u001b[39;49m\u001b[43mread_geometry\u001b[49m\u001b[43m,\u001b[49m\n\u001b[0;32m    204\u001b[0m \u001b[43m    \u001b[49m\u001b[43mforce_2d\u001b[49m\u001b[38;5;241;43m=\u001b[39;49m\u001b[43mforce_2d\u001b[49m\u001b[43m,\u001b[49m\n\u001b[0;32m    205\u001b[0m \u001b[43m    \u001b[49m\u001b[43mskip_features\u001b[49m\u001b[38;5;241;43m=\u001b[39;49m\u001b[43mskip_features\u001b[49m\u001b[43m,\u001b[49m\n\u001b[0;32m    206\u001b[0m \u001b[43m    \u001b[49m\u001b[43mmax_features\u001b[49m\u001b[38;5;241;43m=\u001b[39;49m\u001b[43mmax_features\u001b[49m\u001b[43m \u001b[49m\u001b[38;5;129;43;01mor\u001b[39;49;00m\u001b[43m \u001b[49m\u001b[38;5;241;43m0\u001b[39;49m\u001b[43m,\u001b[49m\n\u001b[0;32m    207\u001b[0m \u001b[43m    \u001b[49m\u001b[43mwhere\u001b[49m\u001b[38;5;241;43m=\u001b[39;49m\u001b[43mwhere\u001b[49m\u001b[43m,\u001b[49m\n\u001b[0;32m    208\u001b[0m \u001b[43m    \u001b[49m\u001b[43mbbox\u001b[49m\u001b[38;5;241;43m=\u001b[39;49m\u001b[43mbbox\u001b[49m\u001b[43m,\u001b[49m\n\u001b[0;32m    209\u001b[0m \u001b[43m    \u001b[49m\u001b[43mmask\u001b[49m\u001b[38;5;241;43m=\u001b[39;49m\u001b[43m_mask_to_wkb\u001b[49m\u001b[43m(\u001b[49m\u001b[43mmask\u001b[49m\u001b[43m)\u001b[49m\u001b[43m,\u001b[49m\n\u001b[0;32m    210\u001b[0m \u001b[43m    \u001b[49m\u001b[43mfids\u001b[49m\u001b[38;5;241;43m=\u001b[39;49m\u001b[43mfids\u001b[49m\u001b[43m,\u001b[49m\n\u001b[0;32m    211\u001b[0m \u001b[43m    \u001b[49m\u001b[43msql\u001b[49m\u001b[38;5;241;43m=\u001b[39;49m\u001b[43msql\u001b[49m\u001b[43m,\u001b[49m\n\u001b[0;32m    212\u001b[0m \u001b[43m    \u001b[49m\u001b[43msql_dialect\u001b[49m\u001b[38;5;241;43m=\u001b[39;49m\u001b[43msql_dialect\u001b[49m\u001b[43m,\u001b[49m\n\u001b[0;32m    213\u001b[0m \u001b[43m    \u001b[49m\u001b[43mreturn_fids\u001b[49m\u001b[38;5;241;43m=\u001b[39;49m\u001b[43mreturn_fids\u001b[49m\u001b[43m,\u001b[49m\n\u001b[0;32m    214\u001b[0m \u001b[43m    \u001b[49m\u001b[43mdataset_kwargs\u001b[49m\u001b[38;5;241;43m=\u001b[39;49m\u001b[43mdataset_kwargs\u001b[49m\u001b[43m,\u001b[49m\n\u001b[0;32m    215\u001b[0m \u001b[43m    \u001b[49m\u001b[43mdatetime_as_string\u001b[49m\u001b[38;5;241;43m=\u001b[39;49m\u001b[43mdatetime_as_string\u001b[49m\u001b[43m,\u001b[49m\n\u001b[0;32m    216\u001b[0m \u001b[43m\u001b[49m\u001b[43m)\u001b[49m\n",
      "File \u001b[1;32mpyogrio\\\\_io.pyx:1240\u001b[0m, in \u001b[0;36mpyogrio._io.ogr_read\u001b[1;34m()\u001b[0m\n",
      "File \u001b[1;32mpyogrio\\\\_io.pyx:220\u001b[0m, in \u001b[0;36mpyogrio._io.ogr_open\u001b[1;34m()\u001b[0m\n",
      "\u001b[1;31mDataSourceError\u001b[0m: CVE_ENT CVE_MUN CVEGEO         NOM_ENT          AREA   PERIMETER  \\0         01     001  01001  Aguascalientes  116635.92455  1166.35925   1         01     002  01002  Aguascalientes   54337.42654   543.37427   2         01     003  01003  Aguascalientes   92335.78320   923.35783   3         01     004  01004  Aguascalientes   12838.35453   128.38355   4         01     005  01005  Aguascalientes   49989.50926   499.89509   ...      ...     ...    ...             ...           ...         ...   2458      32     054  32054       Zacatecas   37142.59872   371.42599   2459      32     055  32055       Zacatecas  215650.56021  2156.50560   2460      32     056  32056       Zacatecas   43678.57090   436.78571   2461      32     057  32057       Zacatecas   21844.70068   218.44701   2462      32     058  32058       Zacatecas   27566.66479   275.66665                       NOM_MUN  COV_  COV_ID  \\0            Aguascalientes     0       1   1                  Asientos     1       2   2                  Calvillo     2       3   3                     Cosío     3       4   4               Jesús María     4       5   ...                     ...   ...     ...   2458          Villa Hidalgo  2458    2459   2459             Villanueva  2459    2460   2460              Zacatecas  2460    2461   2461               Trancoso  2461    2462   2462  Santa María de la Paz  2462    2463                                                  geometry  0     POLYGON ((-102.09775 22.02325, -102.09857 22.0...  1     POLYGON ((-101.99941 22.21951, -101.9994 22.21...  2     POLYGON ((-102.57625 21.96778, -102.57626 21.9...  3     POLYGON ((-102.2532 22.37449, -102.25239 22.37...  4     POLYGON ((-102.31034 22.03716, -102.30653 22.0...  ...                                                 ...  2458  POLYGON ((-101.65599 22.51381, -101.65586 22.5...  2459  POLYGON ((-102.69428 22.6223, -102.69476 22.62...  2460  POLYGON ((-102.58542 22.81149, -102.58541 22.8...  2461  POLYGON ((-102.2461 22.73451, -102.24615 22.73...  2462  POLYGON ((-103.19774 21.58534, -103.19599 21.5...  [2463 rows x 10 columns]: No such file or directory"
     ]
    }
   ],
   "source": [
    "import geopandas as gpd\n",
    "import folium\n",
    "\n",
    "# Ruta al archivo SHP o GeoJSON\n",
    "try:\n",
    "    gdf = gpd.read_file(\"E://files_pandas//sisver//muni_2018gw//muni_2018gw.shp\", encoding='utf-8')\n",
    "except UnicodeDecodeError:\n",
    "    gdf = gpd.read_file(\"E://files_pandas//sisver//muni_2018gw//muni_2018gw.shp\", encoding='latin-1')\n",
    "\n",
    "# Leer el archivo SHP\n",
    "\n",
    "gdf = gdf[gdf['NOM_ENT'] == 'Hidalgo']\n",
    "# Crear el mapa base centrado en Hidalgo\n",
    "m = folium.Map(location=[20.0911, -98.7624], zoom_start=8)  # Coordenadas aproximadas de Hidalgo\n",
    "\n",
    "# Crear un GeoDataFrame con los datos de promedio_analf\n",
    "gdf = gdf.merge(promedio_analf, left_on='NOM_MUN', right_on='mun')\n",
    "\n",
    "# Crear el Choropleth\n",
    "folium.Choropleth(\n",
    "    geo_data=gdf,\n",
    "    name='choropleth',\n",
    "    data=gdf,\n",
    "    columns=['mun', 'promedio_i_analf'],\n",
    "    key_on='feature.properties.NOM_MUN',\n",
    "    fill_color='YlOrRd',\n",
    "    fill_opacity=0.7,\n",
    "    line_opacity=0.2,\n",
    "    legend_name='Promedio de Índice de Analfabetismo'\n",
    ").add_to(m)\n",
    "\n",
    "# Agregar capas de control\n",
    "folium.LayerControl().add_to(m)\n",
    "\n",
    "# Guardar el mapa en un archivo HTML\n",
    "m.save('E://files_pandas//sisver//mapa_analfabetismo_hidalgo.html')\n",
    "\n",
    "# Mostrar el mapa\n",
    "m"
   ]
  },
  {
   "cell_type": "code",
   "execution_count": null,
   "metadata": {},
   "outputs": [
    {
     "name": "stdout",
     "output_type": "stream",
     "text": [
      "    CVE_ENT CVE_MUN CVEGEO  NOM_ENT         AREA  PERIMETER  \\\n",
      "452      13     001  13001  Hidalgo  23978.12399  239.78124   \n",
      "453      13     002  13002  Hidalgo  23708.80399  237.08804   \n",
      "454      13     003  13003  Hidalgo  26969.47989  269.69480   \n",
      "455      13     004  13004  Hidalgo  11907.74028  119.07740   \n",
      "456      13     005  13005  Hidalgo  23722.94946  237.22949   \n",
      "\n",
      "                     NOM_MUN  COV_  COV_ID  \\\n",
      "452                 AcatlÃ¡n   452     453   \n",
      "453            AcaxochitlÃ¡n   453     454   \n",
      "454                  Actopan   454     455   \n",
      "455  Agua Blanca de Iturbide   455     456   \n",
      "456                  Ajacuba   456     457   \n",
      "\n",
      "                                              geometry  \n",
      "452  POLYGON ((-98.45855 20.33365, -98.45834 20.333...  \n",
      "453  POLYGON ((-98.14701 20.22061, -98.14724 20.220...  \n",
      "454  POLYGON ((-98.81566 20.38951, -98.81594 20.388...  \n",
      "455  POLYGON ((-98.3341 20.32889, -98.33468 20.3279...  \n",
      "456  POLYGON ((-99.04028 20.18884, -99.04026 20.188...  \n"
     ]
    }
   ],
   "source": [
    "import geopandas as gpd\n",
    "\n",
    "# Ruta al archivo SHP\n",
    "try:\n",
    "    gdf = gpd.read_file(\"E://files_pandas//sisver//muni_2018gw//muni_2018gw.shp\", encoding='utf-8')\n",
    "except UnicodeDecodeError:\n",
    "    gdf = gpd.read_file(\"E://files_pandas//sisver//muni_2018gw//muni_2018gw.shp\", encoding='latin-1')\n",
    "\n",
    "# Leer el archivo SHP\n",
    "gdf = gpd.read_file(shapefile_path)\n",
    "gdf = gdf[gdf['NOM_ENT'] == 'Hidalgo']\n",
    "# Mostrar las primeras filas del GeoDataFrame\n",
    "print(gdf.head())\n"
   ]
  },
  {
   "cell_type": "code",
   "execution_count": null,
   "metadata": {},
   "outputs": [],
   "source": []
  }
 ],
 "metadata": {
  "kernelspec": {
   "display_name": "datos_abiertos",
   "language": "python",
   "name": "python3"
  },
  "language_info": {
   "codemirror_mode": {
    "name": "ipython",
    "version": 3
   },
   "file_extension": ".py",
   "mimetype": "text/x-python",
   "name": "python",
   "nbconvert_exporter": "python",
   "pygments_lexer": "ipython3",
   "version": "3.12.6"
  }
 },
 "nbformat": 4,
 "nbformat_minor": 2
}
