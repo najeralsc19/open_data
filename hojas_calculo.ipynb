{
 "cells": [
  {
   "cell_type": "code",
   "execution_count": 1,
   "metadata": {},
   "outputs": [],
   "source": [
    "import pandas as pd\n",
    "pd.set_option('future.no_silent_downcasting', True)\n",
    "df = pd.read_excel('E://files_pandas//excel//cubos.xlsx', skiprows=4)\n",
    "new_column_names_1 = df.iloc[1, :5].to_list()\n",
    "new_column_names_2 = df.iloc[0, 5:].to_list()\n",
    "new_column_names = new_column_names_1 + new_column_names_2\n",
    "df.columns = new_column_names\n",
    "df = df.drop([0,1]) #eliminar fila 0 y 1 que tenian los nombres de las columnas correctas \n",
    "df = df.reset_index(drop=True)#reiniciar el indice \n",
    "df = df.iloc[:, :-1]#eliminar la ultima columna \n",
    "df = df[~df['CLUES'].str.contains('Total', na=False)]\n",
    "df = df[~df['Municipio'].str.contains('Total', na=False)]\n",
    "df = df[~df['Jurisdicción'].str.contains('Total', na=False)]\n",
    "df = df[~df['Entidad'].str.contains('Grand Total', na=False)]\n",
    "\n",
    "df['Municipio'] = df['Municipio'].ffill()\n",
    "df['Entidad'] = df['Entidad'].ffill()\n",
    "df['Jurisdicción'] = df['Jurisdicción'].ffill()\n",
    "\n",
    "df = df.fillna(0)\n",
    "\n",
    "df = df.infer_objects(copy=False)\n"
   ]
  },
  {
   "cell_type": "code",
   "execution_count": 3,
   "metadata": {},
   "outputs": [],
   "source": [
    "import pandas as pd \n",
    "df_sin = pd.read_excel(\"E://files_pandas//excel//SINERHIAS_HGO_26012023 base 020424.xlsx\", skiprows=6)\n",
    "\n",
    "df_sin.columns = df_sin.iloc[0]\n",
    "df_sin = df_sin.drop(0)\n",
    "\n",
    "df_sin = df_sin.reset_index(drop=True)\n"
   ]
  },
  {
   "cell_type": "code",
   "execution_count": null,
   "metadata": {},
   "outputs": [],
   "source": []
  }
 ],
 "metadata": {
  "kernelspec": {
   "display_name": "datos_abiertos",
   "language": "python",
   "name": "python3"
  },
  "language_info": {
   "codemirror_mode": {
    "name": "ipython",
    "version": 3
   },
   "file_extension": ".py",
   "mimetype": "text/x-python",
   "name": "python",
   "nbconvert_exporter": "python",
   "pygments_lexer": "ipython3",
   "version": "3.12.6"
  }
 },
 "nbformat": 4,
 "nbformat_minor": 2
}
