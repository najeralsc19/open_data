{
 "cells": [
  {
   "cell_type": "code",
   "execution_count": null,
   "metadata": {},
   "outputs": [],
   "source": [
    "import pandas as pd\n",
    "\n",
    "# Cargar el archivo Parquet\n",
    "archivo_path = \"E://files_pandas//datos_abiertos//sinac//nacimientos//Nacimientos_2019.parquet\"\n",
    "df_19 = pd.read_parquet(archivo_path)\n",
    "\n",
    "# Renombrar las columnas\n",
    "df_19.rename(columns={\n",
    "    'ENT_NACM': 'ENTIDADNACIMIENTO',\n",
    "    'MPO_NACM': 'MUNICIPIONACIMIENTO',\n",
    "    'SEXO_H': 'SEXO'\n",
    "    # Agrega aquí más columnas si es necesario\n",
    "}, inplace=True)\n",
    "\n",
    "# Guardar el DataFrame de nuevo en el archivo Parquet\n",
    "df_19.to_parquet(archivo_path)\n",
    "\n",
    "print(\"Columnas renombradas y archivo guardado correctamente.\")"
   ]
  },
  {
   "cell_type": "code",
   "execution_count": null,
   "metadata": {},
   "outputs": [
    {
     "ename": "KeyError",
     "evalue": "\"['SEXO'] not in index\"",
     "output_type": "error",
     "traceback": [
      "\u001b[1;31m---------------------------------------------------------------------------\u001b[0m",
      "\u001b[1;31mKeyError\u001b[0m                                  Traceback (most recent call last)",
      "Cell \u001b[1;32mIn[20], line 34\u001b[0m\n\u001b[0;32m     31\u001b[0m df \u001b[38;5;241m=\u001b[39m df[df[\u001b[38;5;124m'\u001b[39m\u001b[38;5;124mMUNICIPIONACIMIENTO\u001b[39m\u001b[38;5;124m'\u001b[39m] \u001b[38;5;241m<\u001b[39m\u001b[38;5;241m=\u001b[39m \u001b[38;5;241m84\u001b[39m]\n\u001b[0;32m     33\u001b[0m \u001b[38;5;66;03m# Seleccionar solo las columnas necesarias\u001b[39;00m\n\u001b[1;32m---> 34\u001b[0m df \u001b[38;5;241m=\u001b[39m \u001b[43mdf\u001b[49m\u001b[43m[\u001b[49m\u001b[43m[\u001b[49m\u001b[38;5;124;43m'\u001b[39;49m\u001b[38;5;124;43mENTIDADNACIMIENTO\u001b[39;49m\u001b[38;5;124;43m'\u001b[39;49m\u001b[43m,\u001b[49m\u001b[43m \u001b[49m\u001b[38;5;124;43m'\u001b[39;49m\u001b[38;5;124;43mMUNICIPIONACIMIENTO\u001b[39;49m\u001b[38;5;124;43m'\u001b[39;49m\u001b[43m,\u001b[49m\u001b[43m \u001b[49m\u001b[38;5;124;43m'\u001b[39;49m\u001b[38;5;124;43mSEXO\u001b[39;49m\u001b[38;5;124;43m'\u001b[39;49m\u001b[43m,\u001b[49m\u001b[43m \u001b[49m\u001b[38;5;124;43m'\u001b[39;49m\u001b[38;5;124;43mAÑO\u001b[39;49m\u001b[38;5;124;43m'\u001b[39;49m\u001b[43m]\u001b[49m\u001b[43m]\u001b[49m\n\u001b[0;32m     36\u001b[0m \u001b[38;5;66;03m# Agregar el DataFrame a la lista\u001b[39;00m\n\u001b[0;32m     37\u001b[0m dfs\u001b[38;5;241m.\u001b[39mappend(df)\n",
      "File \u001b[1;32me:\\Repositorios\\open_data\\datos_abiertos\\Lib\\site-packages\\pandas\\core\\frame.py:4108\u001b[0m, in \u001b[0;36mDataFrame.__getitem__\u001b[1;34m(self, key)\u001b[0m\n\u001b[0;32m   4106\u001b[0m     \u001b[38;5;28;01mif\u001b[39;00m is_iterator(key):\n\u001b[0;32m   4107\u001b[0m         key \u001b[38;5;241m=\u001b[39m \u001b[38;5;28mlist\u001b[39m(key)\n\u001b[1;32m-> 4108\u001b[0m     indexer \u001b[38;5;241m=\u001b[39m \u001b[38;5;28;43mself\u001b[39;49m\u001b[38;5;241;43m.\u001b[39;49m\u001b[43mcolumns\u001b[49m\u001b[38;5;241;43m.\u001b[39;49m\u001b[43m_get_indexer_strict\u001b[49m\u001b[43m(\u001b[49m\u001b[43mkey\u001b[49m\u001b[43m,\u001b[49m\u001b[43m \u001b[49m\u001b[38;5;124;43m\"\u001b[39;49m\u001b[38;5;124;43mcolumns\u001b[39;49m\u001b[38;5;124;43m\"\u001b[39;49m\u001b[43m)\u001b[49m[\u001b[38;5;241m1\u001b[39m]\n\u001b[0;32m   4110\u001b[0m \u001b[38;5;66;03m# take() does not accept boolean indexers\u001b[39;00m\n\u001b[0;32m   4111\u001b[0m \u001b[38;5;28;01mif\u001b[39;00m \u001b[38;5;28mgetattr\u001b[39m(indexer, \u001b[38;5;124m\"\u001b[39m\u001b[38;5;124mdtype\u001b[39m\u001b[38;5;124m\"\u001b[39m, \u001b[38;5;28;01mNone\u001b[39;00m) \u001b[38;5;241m==\u001b[39m \u001b[38;5;28mbool\u001b[39m:\n",
      "File \u001b[1;32me:\\Repositorios\\open_data\\datos_abiertos\\Lib\\site-packages\\pandas\\core\\indexes\\base.py:6200\u001b[0m, in \u001b[0;36mIndex._get_indexer_strict\u001b[1;34m(self, key, axis_name)\u001b[0m\n\u001b[0;32m   6197\u001b[0m \u001b[38;5;28;01melse\u001b[39;00m:\n\u001b[0;32m   6198\u001b[0m     keyarr, indexer, new_indexer \u001b[38;5;241m=\u001b[39m \u001b[38;5;28mself\u001b[39m\u001b[38;5;241m.\u001b[39m_reindex_non_unique(keyarr)\n\u001b[1;32m-> 6200\u001b[0m \u001b[38;5;28;43mself\u001b[39;49m\u001b[38;5;241;43m.\u001b[39;49m\u001b[43m_raise_if_missing\u001b[49m\u001b[43m(\u001b[49m\u001b[43mkeyarr\u001b[49m\u001b[43m,\u001b[49m\u001b[43m \u001b[49m\u001b[43mindexer\u001b[49m\u001b[43m,\u001b[49m\u001b[43m \u001b[49m\u001b[43maxis_name\u001b[49m\u001b[43m)\u001b[49m\n\u001b[0;32m   6202\u001b[0m keyarr \u001b[38;5;241m=\u001b[39m \u001b[38;5;28mself\u001b[39m\u001b[38;5;241m.\u001b[39mtake(indexer)\n\u001b[0;32m   6203\u001b[0m \u001b[38;5;28;01mif\u001b[39;00m \u001b[38;5;28misinstance\u001b[39m(key, Index):\n\u001b[0;32m   6204\u001b[0m     \u001b[38;5;66;03m# GH 42790 - Preserve name from an Index\u001b[39;00m\n",
      "File \u001b[1;32me:\\Repositorios\\open_data\\datos_abiertos\\Lib\\site-packages\\pandas\\core\\indexes\\base.py:6252\u001b[0m, in \u001b[0;36mIndex._raise_if_missing\u001b[1;34m(self, key, indexer, axis_name)\u001b[0m\n\u001b[0;32m   6249\u001b[0m     \u001b[38;5;28;01mraise\u001b[39;00m \u001b[38;5;167;01mKeyError\u001b[39;00m(\u001b[38;5;124mf\u001b[39m\u001b[38;5;124m\"\u001b[39m\u001b[38;5;124mNone of [\u001b[39m\u001b[38;5;132;01m{\u001b[39;00mkey\u001b[38;5;132;01m}\u001b[39;00m\u001b[38;5;124m] are in the [\u001b[39m\u001b[38;5;132;01m{\u001b[39;00maxis_name\u001b[38;5;132;01m}\u001b[39;00m\u001b[38;5;124m]\u001b[39m\u001b[38;5;124m\"\u001b[39m)\n\u001b[0;32m   6251\u001b[0m not_found \u001b[38;5;241m=\u001b[39m \u001b[38;5;28mlist\u001b[39m(ensure_index(key)[missing_mask\u001b[38;5;241m.\u001b[39mnonzero()[\u001b[38;5;241m0\u001b[39m]]\u001b[38;5;241m.\u001b[39munique())\n\u001b[1;32m-> 6252\u001b[0m \u001b[38;5;28;01mraise\u001b[39;00m \u001b[38;5;167;01mKeyError\u001b[39;00m(\u001b[38;5;124mf\u001b[39m\u001b[38;5;124m\"\u001b[39m\u001b[38;5;132;01m{\u001b[39;00mnot_found\u001b[38;5;132;01m}\u001b[39;00m\u001b[38;5;124m not in index\u001b[39m\u001b[38;5;124m\"\u001b[39m)\n",
      "\u001b[1;31mKeyError\u001b[0m: \"['SEXO'] not in index\""
     ]
    }
   ],
   "source": [
    "import os\n",
    "import pandas as pd\n",
    "\n",
    "ruta = 'E://files_pandas//datos_abiertos//sinac//nacimientos'\n",
    "archivos_parquet = [f for f in os.listdir(ruta) if f.endswith('.parquet')]\n",
    "\n",
    "# Lista para almacenar los DataFrames\n",
    "dfs = []\n",
    "\n",
    "for archivo_parquet in archivos_parquet:\n",
    "    archivo_path = os.path.join(ruta, archivo_parquet)\n",
    "    df = pd.read_parquet(archivo_path)\n",
    "    \n",
    "    # Extraer el año del nombre del archivo\n",
    "    año = int(archivo_parquet.split('_')[1].split('.')[0])\n",
    "    \n",
    "    # Agregar la columna del año\n",
    "    df['AÑO'] = año\n",
    "    \n",
    "    # Renombrar las columnas para estandarizar\n",
    "    df.rename(columns={\n",
    "        'ENT_NACM': 'ENTIDADNACIMIENTO',\n",
    "        'MPO_NACM': 'MUNICIPIONACIMIENTO',\n",
    "        'SEXOH': 'SEXO'\n",
    "    }, inplace=True)\n",
    "    \n",
    "    # Filtrar por ENTIDADNACIMIENTO == 13\n",
    "    df = df[df['ENTIDADNACIMIENTO'] == 13]\n",
    "    \n",
    "    # Eliminar filas donde MUNICIPIONACIMIENTO sea mayor a 84\n",
    "    df = df[df['MUNICIPIONACIMIENTO'] <= 84]\n",
    "    \n",
    "    # Seleccionar solo las columnas necesarias\n",
    "    df = df[['ENTIDADNACIMIENTO', 'MUNICIPIONACIMIENTO', 'SEXO', 'AÑO']]\n",
    "    \n",
    "    # Agregar el DataFrame a la lista\n",
    "    dfs.append(df)\n",
    "\n",
    "# Concatenar todos los DataFrames en uno solo\n",
    "df_concatenado = pd.concat(dfs, ignore_index=True)\n",
    "\n",
    "# Realizar el groupby y contar los registros por MUNICIPIONACIMIENTO, SEXO y AÑO\n",
    "resultado = df_concatenado.groupby(['MUNICIPIONACIMIENTO', 'SEXO', 'AÑO']).size().reset_index(name='count')\n",
    "\n",
    "# Crear la tabla pivote\n",
    "tabla_pivote = resultado.pivot_table(index='MUNICIPIONACIMIENTO', columns='AÑO', values='count', aggfunc='sum', fill_value=0)\n",
    "\n",
    "# Guardar la tabla pivote en un archivo Excel\n",
    "tabla_pivote.to_excel('E://files_pandas//datos_abiertos//sinac//nacimientos//nacimientos_pivote.xlsx')\n",
    "\n",
    "# Mostrar la tabla pivote\n",
    "print(tabla_pivote)"
   ]
  },
  {
   "cell_type": "code",
   "execution_count": 15,
   "metadata": {},
   "outputs": [
    {
     "name": "stdout",
     "output_type": "stream",
     "text": [
      "AÑO                  2019\n",
      "MUNICIPIONACIMIENTO      \n",
      "1.0                   273\n",
      "2.0                   915\n",
      "3.0                   924\n",
      "4.0                   115\n",
      "5.0                   146\n",
      "...                   ...\n",
      "80.0                  547\n",
      "81.0                  844\n",
      "82.0                   62\n",
      "83.0                  122\n",
      "84.0                  504\n",
      "\n",
      "[84 rows x 1 columns]\n"
     ]
    }
   ],
   "source": [
    "import pandas as pd\n",
    "\n",
    "# Cargar el archivo Parquet\n",
    "archivo_path = \"E://files_pandas//datos_abiertos//sinac//Nacimientos_2019.parquet\"\n",
    "df = pd.read_parquet(archivo_path)\n",
    "\n",
    "# Extraer el año del nombre del archivo\n",
    "año = int(archivo_path.split('/')[-1].split('_')[1].split('.')[0])\n",
    "\n",
    "# Agregar la columna del año\n",
    "df['AÑO'] = año\n",
    "\n",
    "# Filtrar por ENTIDADNACIMIENTO == 13\n",
    "df = df[df['ENTIDADNACIMIENTO'] == 13]\n",
    "\n",
    "# Eliminar filas donde MUNICIPIONACIMIENTO sea mayor a 84\n",
    "df = df[df['MUNICIPIONACIMIENTO'] <= 84]\n",
    "\n",
    "# Seleccionar solo las columnas necesarias\n",
    "df = df[['ENTIDADNACIMIENTO', 'MUNICIPIONACIMIENTO', 'SEXOH', 'AÑO']]\n",
    "\n",
    "# Realizar el groupby y contar los registros por MUNICIPIONACIMIENTO, SEXO y AÑO\n",
    "resultado = df.groupby(['MUNICIPIONACIMIENTO', 'SEXOH', 'AÑO']).size().reset_index(name='count')\n",
    "\n",
    "# Crear la tabla pivote\n",
    "tabla_pivote = resultado.pivot_table(index='MUNICIPIONACIMIENTO', columns='AÑO', values='count', aggfunc='sum', fill_value=0)\n",
    "\n",
    "# Guardar la tabla pivote en un archivo Excel\n",
    "tabla_pivote.to_excel('E://files_pandas//datos_abiertos//sinac//nacimientos//nacimientos_pivote_2019.xlsx')\n",
    "\n",
    "# Mostrar la tabla pivote\n",
    "print(tabla_pivote)"
   ]
  }
 ],
 "metadata": {
  "kernelspec": {
   "display_name": "datos_abiertos",
   "language": "python",
   "name": "python3"
  },
  "language_info": {
   "codemirror_mode": {
    "name": "ipython",
    "version": 3
   },
   "file_extension": ".py",
   "mimetype": "text/x-python",
   "name": "python",
   "nbconvert_exporter": "python",
   "pygments_lexer": "ipython3",
   "version": "3.12.6"
  }
 },
 "nbformat": 4,
 "nbformat_minor": 2
}
